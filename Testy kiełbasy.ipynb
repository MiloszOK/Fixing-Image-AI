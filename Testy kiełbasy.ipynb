{
 "cells": [
  {
   "cell_type": "code",
   "execution_count": 1,
   "id": "fb18bdb5-b018-4615-aaa6-b2fb5407ad26",
   "metadata": {},
   "outputs": [],
   "source": [
    "from PIL import Image\n",
    "import numpy as np"
   ]
  },
  {
   "cell_type": "code",
   "execution_count": 2,
   "id": "4052e2b8-6eae-4e96-8020-81f878df3a9e",
   "metadata": {},
   "outputs": [],
   "source": [
    "image = Image.open('black cock.jpg')"
   ]
  },
  {
   "cell_type": "code",
   "execution_count": 3,
   "id": "7b9b122f-f0e8-4d70-8113-1aa055ae5d4f",
   "metadata": {},
   "outputs": [
    {
     "name": "stdout",
     "output_type": "stream",
     "text": [
      "[[[ 61  63  42]\n",
      "  [ 61  63  42]\n",
      "  [ 61  63  42]\n",
      "  ...\n",
      "  [148 201 147]\n",
      "  [148 201 149]\n",
      "  [148 200 151]]\n",
      "\n",
      " [[ 62  64  43]\n",
      "  [ 62  64  43]\n",
      "  [ 62  64  43]\n",
      "  ...\n",
      "  [148 201 147]\n",
      "  [149 202 150]\n",
      "  [149 201 152]]\n",
      "\n",
      " [[ 65  66  48]\n",
      "  [ 65  66  48]\n",
      "  [ 64  65  47]\n",
      "  ...\n",
      "  [148 201 147]\n",
      "  [149 202 148]\n",
      "  [149 202 150]]\n",
      "\n",
      " ...\n",
      "\n",
      " [[133 110  94]\n",
      "  [126 103  87]\n",
      "  [123 100  86]\n",
      "  ...\n",
      "  [175 205 135]\n",
      "  [196 222 159]\n",
      "  [231 239 202]]\n",
      "\n",
      " [[123  97  82]\n",
      "  [110  84  69]\n",
      "  [101  75  62]\n",
      "  ...\n",
      "  [190 217 148]\n",
      "  [199 223 163]\n",
      "  [200 206 172]]\n",
      "\n",
      " [[108  82  67]\n",
      "  [107  81  66]\n",
      "  [ 98  72  59]\n",
      "  ...\n",
      "  [164 191 124]\n",
      "  [179 203 143]\n",
      "  [165 170 138]]]\n"
     ]
    }
   ],
   "source": [
    "image_array = np.array(image)\n",
    "print(image_array)"
   ]
  },
  {
   "cell_type": "code",
   "execution_count": 32,
   "id": "ad55af33-f44e-4757-b7d8-77f665d545cc",
   "metadata": {},
   "outputs": [],
   "source": [
    "red_channel = image_array[:,:,0]\n",
    "green_channel = image_array[:,:,1]\n",
    "blue_channel = image_array[:,:,2]"
   ]
  },
  {
   "cell_type": "code",
   "execution_count": null,
   "id": "60967ac7-d975-419b-8e47-71603a60a1f4",
   "metadata": {},
   "outputs": [],
   "source": []
  },
  {
   "cell_type": "code",
   "execution_count": 22,
   "id": "2e0618f7-8865-41bf-a716-c2215b97c193",
   "metadata": {},
   "outputs": [],
   "source": []
  },
  {
   "cell_type": "code",
   "execution_count": 23,
   "id": "700dab6d-5383-4c5c-8402-65846f1972f5",
   "metadata": {},
   "outputs": [
    {
     "ename": "IndexError",
     "evalue": "too many indices for array: array is 1-dimensional, but 2 were indexed",
     "output_type": "error",
     "traceback": [
      "\u001b[0;31m---------------------------------------------------------------------------\u001b[0m",
      "\u001b[0;31mIndexError\u001b[0m                                Traceback (most recent call last)",
      "Cell \u001b[0;32mIn[23], line 1\u001b[0m\n\u001b[0;32m----> 1\u001b[0m \u001b[43mred_channel\u001b[49m\u001b[43m[\u001b[49m\u001b[43mi\u001b[49m\u001b[43m \u001b[49m\u001b[38;5;241;43m/\u001b[39;49m\u001b[38;5;241;43m/\u001b[39;49m\u001b[43m \u001b[49m\u001b[43mimage\u001b[49m\u001b[38;5;241;43m.\u001b[39;49m\u001b[43mwidth\u001b[49m\u001b[43m,\u001b[49m\u001b[43m \u001b[49m\u001b[43mi\u001b[49m\u001b[43m \u001b[49m\u001b[38;5;241;43m%\u001b[39;49m\u001b[43m \u001b[49m\u001b[43mimage\u001b[49m\u001b[38;5;241;43m.\u001b[39;49m\u001b[43mwidth\u001b[49m\u001b[43m]\u001b[49m \u001b[38;5;241m=\u001b[39m r\n\u001b[1;32m      2\u001b[0m green_channel[i \u001b[38;5;241m/\u001b[39m\u001b[38;5;241m/\u001b[39m image\u001b[38;5;241m.\u001b[39mwidth, i \u001b[38;5;241m%\u001b[39m image\u001b[38;5;241m.\u001b[39mwidth] \u001b[38;5;241m=\u001b[39m g\n\u001b[1;32m      3\u001b[0m blue_channel[i \u001b[38;5;241m/\u001b[39m\u001b[38;5;241m/\u001b[39m image\u001b[38;5;241m.\u001b[39mwidth, i \u001b[38;5;241m%\u001b[39m image\u001b[38;5;241m.\u001b[39mwidth] \u001b[38;5;241m=\u001b[39m b\n",
      "\u001b[0;31mIndexError\u001b[0m: too many indices for array: array is 1-dimensional, but 2 were indexed"
     ]
    }
   ],
   "source": []
  },
  {
   "cell_type": "code",
   "execution_count": null,
   "id": "e9e9e240-ccea-4fce-8a5c-70a38fc78e19",
   "metadata": {},
   "outputs": [],
   "source": []
  }
 ],
 "metadata": {
  "kernelspec": {
   "display_name": "Python 3 (ipykernel)",
   "language": "python",
   "name": "python3"
  },
  "language_info": {
   "codemirror_mode": {
    "name": "ipython",
    "version": 3
   },
   "file_extension": ".py",
   "mimetype": "text/x-python",
   "name": "python",
   "nbconvert_exporter": "python",
   "pygments_lexer": "ipython3",
   "version": "3.12.0"
  }
 },
 "nbformat": 4,
 "nbformat_minor": 5
}
