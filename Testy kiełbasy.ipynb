{
 "cells": [
  {
   "cell_type": "code",
   "execution_count": 20,
   "id": "fb18bdb5-b018-4615-aaa6-b2fb5407ad26",
   "metadata": {},
   "outputs": [],
   "source": [
    "from PIL import Image\n",
    "import numpy as np"
   ]
  },
  {
   "cell_type": "code",
   "execution_count": 21,
   "id": "96e27706-98cf-4048-887b-7bc1826875e3",
   "metadata": {},
   "outputs": [],
   "source": [
    "import warnings\n",
    "warnings.filterwarnings('ignore')"
   ]
  },
  {
   "cell_type": "code",
   "execution_count": 46,
   "id": "34a1e86e-a8d2-4ce5-ad32-16f2b7745e10",
   "metadata": {},
   "outputs": [],
   "source": [
    "import tensorflow as tf\n",
    "\n",
    "gpus = tf.config.list_physical_devices('GPU')\n",
    "if gpus:\n",
    "    try:\n",
    "        # Currently, memory growth needs to be the same across GPUs\n",
    "        for gpu in gpus:\n",
    "            tf.config.experimental.set_memory_growth(gpu, True)\n",
    "            logical_gpus = tf.config.list_logical_devices('GPU')\n",
    "            print(len(gpus), \"Physical GPUs,\", len(logical_gpus), \"Logical GPUs\")\n",
    "    except RuntimeError as e:\n",
    "        # Memory growth must be set before GPUs have been initialized\n",
    "        print(e)"
   ]
  },
  {
   "cell_type": "code",
   "execution_count": 47,
   "id": "e953a851-7d09-4f11-ae6e-39901801b239",
   "metadata": {},
   "outputs": [],
   "source": [
    "def load_and_pad_image(image_path, target_size):\n",
    "    img = Image.open(image_path)\n",
    "    img_array = np.array(img)\n",
    "    pad_height = max(0, target_size[0] - img_array.shape[0])\n",
    "    pad_width = max(0, target_size[1] - img_array.shape[1])\n",
    "    pad_top = pad_height // 2\n",
    "    pad_bottom = pad_height - pad_top\n",
    "    pad_left = pad_width // 2\n",
    "    pad_right = pad_width - pad_left\n",
    "    img_array = np.pad(img_array, ((pad_top, pad_bottom), (pad_left, pad_right), (0, 0)), mode='constant', constant_values=0)\n",
    "    return img_array"
   ]
  },
  {
   "cell_type": "code",
   "execution_count": 48,
   "id": "2e0618f7-8865-41bf-a716-c2215b97c193",
   "metadata": {},
   "outputs": [],
   "source": [
    "def load_image_pairs_with_padding(blurred_folder, correct_folder, target_size):\n",
    "    blurred_images = []\n",
    "    correct_images = []\n",
    "    for filename in os.listdir(blurred_folder):\n",
    "        blurred_path = f'{blurred_folder}{filename}'\n",
    "        correct_path = f'{correct_folder}{filename}'  # zakładamy, że nazwy plików są takie same\n",
    "        if os.path.exists(correct_path):\n",
    "            blurred_img = load_and_pad_image(blurred_path, target_size)\n",
    "            correct_img = load_and_pad_image(correct_path, target_size)\n",
    "            blurred_images.append(blurred_img)\n",
    "            correct_images.append(correct_img)\n",
    "    return np.array(blurred_images), np.array(correct_images)"
   ]
  },
  {
   "cell_type": "code",
   "execution_count": 49,
   "id": "078f28c4-2e96-46cb-994c-86b4a3abda17",
   "metadata": {},
   "outputs": [],
   "source": [
    "import os"
   ]
  },
  {
   "cell_type": "code",
   "execution_count": 50,
   "id": "700dab6d-5383-4c5c-8402-65846f1972f5",
   "metadata": {},
   "outputs": [
    {
     "ename": "AttributeError",
     "evalue": "module 'PIL.Image' has no attribute 'ANTIALIAS'",
     "output_type": "error",
     "traceback": [
      "\u001b[0;31m---------------------------------------------------------------------------\u001b[0m",
      "\u001b[0;31mAttributeError\u001b[0m                            Traceback (most recent call last)",
      "Cell \u001b[0;32mIn[50], line 8\u001b[0m\n\u001b[1;32m      5\u001b[0m target_size \u001b[38;5;241m=\u001b[39m (\u001b[38;5;241m248\u001b[39m, \u001b[38;5;241m248\u001b[39m)\n\u001b[1;32m      7\u001b[0m \u001b[38;5;66;03m# Załaduj pary obrazów (rozmyte i nierozmyte)\u001b[39;00m\n\u001b[0;32m----> 8\u001b[0m blurred_images, correct_images \u001b[38;5;241m=\u001b[39m \u001b[43mload_image_pairs_with_padding\u001b[49m\u001b[43m(\u001b[49m\u001b[43mblurred_images_folder\u001b[49m\u001b[43m,\u001b[49m\u001b[43m \u001b[49m\u001b[43mcorrect_images_folder\u001b[49m\u001b[43m,\u001b[49m\u001b[43m \u001b[49m\u001b[43mtarget_size\u001b[49m\u001b[43m)\u001b[49m\n",
      "Cell \u001b[0;32mIn[48], line 8\u001b[0m, in \u001b[0;36mload_image_pairs_with_padding\u001b[0;34m(blurred_folder, correct_folder, target_size)\u001b[0m\n\u001b[1;32m      6\u001b[0m correct_path \u001b[38;5;241m=\u001b[39m \u001b[38;5;124mf\u001b[39m\u001b[38;5;124m'\u001b[39m\u001b[38;5;132;01m{\u001b[39;00mcorrect_folder\u001b[38;5;132;01m}\u001b[39;00m\u001b[38;5;132;01m{\u001b[39;00mfilename\u001b[38;5;132;01m}\u001b[39;00m\u001b[38;5;124m'\u001b[39m  \u001b[38;5;66;03m# zakładamy, że nazwy plików są takie same\u001b[39;00m\n\u001b[1;32m      7\u001b[0m \u001b[38;5;28;01mif\u001b[39;00m os\u001b[38;5;241m.\u001b[39mpath\u001b[38;5;241m.\u001b[39mexists(correct_path):\n\u001b[0;32m----> 8\u001b[0m     blurred_img \u001b[38;5;241m=\u001b[39m \u001b[43mload_and_pad_image\u001b[49m\u001b[43m(\u001b[49m\u001b[43mblurred_path\u001b[49m\u001b[43m,\u001b[49m\u001b[43m \u001b[49m\u001b[43mtarget_size\u001b[49m\u001b[43m)\u001b[49m\n\u001b[1;32m      9\u001b[0m     correct_img \u001b[38;5;241m=\u001b[39m load_and_pad_image(correct_path, target_size)\n\u001b[1;32m     10\u001b[0m     blurred_images\u001b[38;5;241m.\u001b[39mappend(blurred_img)\n",
      "Cell \u001b[0;32mIn[47], line 12\u001b[0m, in \u001b[0;36mload_and_pad_image\u001b[0;34m(image_path, target_size)\u001b[0m\n\u001b[1;32m      1\u001b[0m \u001b[38;5;28;01mdef\u001b[39;00m \u001b[38;5;21mload_and_pad_image\u001b[39m(image_path, target_size):\n\u001b[1;32m      2\u001b[0m     \u001b[38;5;66;03m# img = Image.open(image_path)\u001b[39;00m\n\u001b[1;32m      3\u001b[0m     \u001b[38;5;66;03m# img_array = np.array(img)\u001b[39;00m\n\u001b[0;32m   (...)\u001b[0m\n\u001b[1;32m      9\u001b[0m     \u001b[38;5;66;03m# pad_right = pad_width - pad_left\u001b[39;00m\n\u001b[1;32m     10\u001b[0m     \u001b[38;5;66;03m# img_array = np.pad(img_array, ((pad_top, pad_bottom), (pad_left, pad_right), (0, 0)), mode='constant', constant_values=0)\u001b[39;00m\n\u001b[1;32m     11\u001b[0m     img \u001b[38;5;241m=\u001b[39m Image\u001b[38;5;241m.\u001b[39mopen(image_path)    \n\u001b[0;32m---> 12\u001b[0m     img \u001b[38;5;241m=\u001b[39m img\u001b[38;5;241m.\u001b[39mresize(target_size, \u001b[43mImage\u001b[49m\u001b[38;5;241;43m.\u001b[39;49m\u001b[43mANTIALIAS\u001b[49m)     \n\u001b[1;32m     13\u001b[0m     img_array \u001b[38;5;241m=\u001b[39m np\u001b[38;5;241m.\u001b[39marray(img)     \n\u001b[1;32m     14\u001b[0m     \u001b[38;5;28;01mreturn\u001b[39;00m img_array\n",
      "\u001b[0;31mAttributeError\u001b[0m: module 'PIL.Image' has no attribute 'ANTIALIAS'"
     ]
    }
   ],
   "source": [
    "# Ścieżki do folderów\n",
    "correct_images_folder = 'Pictures/'\n",
    "blurred_images_folder = 'Zgaussowane/'\n",
    "\n",
    "target_size = (248, 248)\n",
    "\n",
    "# Załaduj pary obrazów (rozmyte i nierozmyte)\n",
    "blurred_images, correct_images = load_image_pairs_with_padding(blurred_images_folder, correct_images_folder, target_size)\n"
   ]
  },
  {
   "cell_type": "code",
   "execution_count": 28,
   "id": "e9e9e240-ccea-4fce-8a5c-70a38fc78e19",
   "metadata": {},
   "outputs": [
    {
     "data": {
      "text/plain": [
       "array([0, 0, 0], dtype=uint8)"
      ]
     },
     "execution_count": 28,
     "metadata": {},
     "output_type": "execute_result"
    }
   ],
   "source": [
    "blurred_images[2,120,4500]"
   ]
  },
  {
   "cell_type": "code",
   "execution_count": 29,
   "id": "774286b5-d861-4684-9ece-62d976d8a58c",
   "metadata": {},
   "outputs": [],
   "source": [
    "from tensorflow.keras.models import Model\n",
    "from tensorflow.keras.layers import Input, Conv2D, MaxPooling2D, UpSampling2D"
   ]
  },
  {
   "cell_type": "code",
   "execution_count": 30,
   "id": "73d59e13-5b80-47d8-98f0-7ad6a9d03a9c",
   "metadata": {},
   "outputs": [],
   "source": [
    "input_img = Input(shape=(target_size[0], target_size[1], 3))"
   ]
  },
  {
   "cell_type": "code",
   "execution_count": 41,
   "id": "ba37997d-71c0-42ba-9b41-8ff38ad0fc2a",
   "metadata": {},
   "outputs": [],
   "source": [
    "# Encoder\n",
    "x = Conv2D(64, (3, 3), activation='relu', padding='same')(input_img)\n",
    "x = MaxPooling2D((2, 2), padding='same')(x)\n",
    "x = Conv2D(128, (3, 3), activation='relu', padding='same')(x)\n",
    "encoded = MaxPooling2D((2, 2), padding='same')(x)\n",
    "\n",
    "# Decoder\n",
    "x = Conv2D(128, (3, 3), activation='relu', padding='same')(encoded)\n",
    "x = UpSampling2D((2, 2))(x)\n",
    "x = Conv2D(64, (3, 3), activation='relu', padding='same')(x)\n",
    "x = UpSampling2D((2, 2))(x)\n",
    "decoded = Conv2D(3, (3, 3), activation='sigmoid', padding='same')(x)"
   ]
  },
  {
   "cell_type": "code",
   "execution_count": 42,
   "id": "e722b4ec-e2ce-4e68-a1a4-447cc6dcd546",
   "metadata": {},
   "outputs": [],
   "source": [
    "# Model\n",
    "autoencoder = Model(input_img, decoded)\n",
    "autoencoder.compile(optimizer='adam', loss='mean_squared_error')"
   ]
  },
  {
   "cell_type": "code",
   "execution_count": 43,
   "id": "75e3ea8e-a0c1-4519-a572-7ce6d3f383f7",
   "metadata": {},
   "outputs": [],
   "source": [
    "from sklearn.model_selection import train_test_split\n",
    "x_train, x_test, y_train, y_test = train_test_split(blurred_images, correct_images, test_size=0.2, random_state=42)"
   ]
  },
  {
   "cell_type": "code",
   "execution_count": 44,
   "id": "021056a7-b93a-450f-96e7-7934373fc7f8",
   "metadata": {},
   "outputs": [],
   "source": [
    "autoencoder = Model(input_img, decoded)\n",
    "autoencoder.compile(optimizer='adam', loss='mean_squared_error')"
   ]
  },
  {
   "cell_type": "code",
   "execution_count": 45,
   "id": "89ba0a7e-65c1-4aaa-9823-3e7cb2b98361",
   "metadata": {},
   "outputs": [
    {
     "name": "stdout",
     "output_type": "stream",
     "text": [
      "Epoch 1/50\n"
     ]
    },
    {
     "name": "stderr",
     "output_type": "stream",
     "text": [
      "2024-06-04 21:45:41.327224: W tensorflow/core/framework/op_kernel.cc:1839] OP_REQUIRES failed at conv_ops_impl.h:679 : RESOURCE_EXHAUSTED: OOM when allocating tensor with shape[2,6000,5500,64] and type float on /job:localhost/replica:0/task:0/device:CPU:0 by allocator cpu\n",
      "2024-06-04 21:45:41.332438: W tensorflow/core/framework/local_rendezvous.cc:404] Local rendezvous is aborting with status: RESOURCE_EXHAUSTED: OOM when allocating tensor with shape[2,6000,5500,64] and type float on /job:localhost/replica:0/task:0/device:CPU:0 by allocator cpu\n",
      "\t [[{{function_node __inference_one_step_on_data_7176}}{{node functional_15_1/conv2d_15_1/convolution}}]]\n",
      "Hint: If you want to see a list of allocated tensors when OOM happens, add report_tensor_allocations_upon_oom to RunOptions for current allocation info. This isn't available when running in Eager mode.\n",
      "\n"
     ]
    },
    {
     "ename": "ResourceExhaustedError",
     "evalue": "Graph execution error:\n\nDetected at node functional_15_1/conv2d_15_1/convolution defined at (most recent call last):\n  File \"<frozen runpy>\", line 198, in _run_module_as_main\n\n  File \"<frozen runpy>\", line 88, in _run_code\n\n  File \"/home/user/anaconda3/envs/pureAI/lib/python3.12/site-packages/ipykernel_launcher.py\", line 18, in <module>\n\n  File \"/home/user/anaconda3/envs/pureAI/lib/python3.12/site-packages/traitlets/config/application.py\", line 1075, in launch_instance\n\n  File \"/home/user/anaconda3/envs/pureAI/lib/python3.12/site-packages/ipykernel/kernelapp.py\", line 739, in start\n\n  File \"/home/user/anaconda3/envs/pureAI/lib/python3.12/site-packages/tornado/platform/asyncio.py\", line 205, in start\n\n  File \"/home/user/anaconda3/envs/pureAI/lib/python3.12/asyncio/base_events.py\", line 618, in run_forever\n\n  File \"/home/user/anaconda3/envs/pureAI/lib/python3.12/asyncio/base_events.py\", line 1951, in _run_once\n\n  File \"/home/user/anaconda3/envs/pureAI/lib/python3.12/asyncio/events.py\", line 84, in _run\n\n  File \"/home/user/anaconda3/envs/pureAI/lib/python3.12/site-packages/ipykernel/kernelbase.py\", line 545, in dispatch_queue\n\n  File \"/home/user/anaconda3/envs/pureAI/lib/python3.12/site-packages/ipykernel/kernelbase.py\", line 534, in process_one\n\n  File \"/home/user/anaconda3/envs/pureAI/lib/python3.12/site-packages/ipykernel/kernelbase.py\", line 437, in dispatch_shell\n\n  File \"/home/user/anaconda3/envs/pureAI/lib/python3.12/site-packages/ipykernel/ipkernel.py\", line 362, in execute_request\n\n  File \"/home/user/anaconda3/envs/pureAI/lib/python3.12/site-packages/ipykernel/kernelbase.py\", line 778, in execute_request\n\n  File \"/home/user/anaconda3/envs/pureAI/lib/python3.12/site-packages/ipykernel/ipkernel.py\", line 449, in do_execute\n\n  File \"/home/user/anaconda3/envs/pureAI/lib/python3.12/site-packages/ipykernel/zmqshell.py\", line 549, in run_cell\n\n  File \"/home/user/anaconda3/envs/pureAI/lib/python3.12/site-packages/IPython/core/interactiveshell.py\", line 3075, in run_cell\n\n  File \"/home/user/anaconda3/envs/pureAI/lib/python3.12/site-packages/IPython/core/interactiveshell.py\", line 3130, in _run_cell\n\n  File \"/home/user/anaconda3/envs/pureAI/lib/python3.12/site-packages/IPython/core/async_helpers.py\", line 129, in _pseudo_sync_runner\n\n  File \"/home/user/anaconda3/envs/pureAI/lib/python3.12/site-packages/IPython/core/interactiveshell.py\", line 3334, in run_cell_async\n\n  File \"/home/user/anaconda3/envs/pureAI/lib/python3.12/site-packages/IPython/core/interactiveshell.py\", line 3517, in run_ast_nodes\n\n  File \"/home/user/anaconda3/envs/pureAI/lib/python3.12/site-packages/IPython/core/interactiveshell.py\", line 3577, in run_code\n\n  File \"/tmp/ipykernel_88515/4156891292.py\", line 1, in <module>\n\n  File \"/home/user/anaconda3/envs/pureAI/lib/python3.12/site-packages/keras/src/utils/traceback_utils.py\", line 117, in error_handler\n\n  File \"/home/user/anaconda3/envs/pureAI/lib/python3.12/site-packages/keras/src/backend/tensorflow/trainer.py\", line 314, in fit\n\n  File \"/home/user/anaconda3/envs/pureAI/lib/python3.12/site-packages/keras/src/backend/tensorflow/trainer.py\", line 117, in one_step_on_iterator\n\n  File \"/home/user/anaconda3/envs/pureAI/lib/python3.12/site-packages/keras/src/backend/tensorflow/trainer.py\", line 104, in one_step_on_data\n\n  File \"/home/user/anaconda3/envs/pureAI/lib/python3.12/site-packages/keras/src/backend/tensorflow/trainer.py\", line 51, in train_step\n\n  File \"/home/user/anaconda3/envs/pureAI/lib/python3.12/site-packages/keras/src/utils/traceback_utils.py\", line 117, in error_handler\n\n  File \"/home/user/anaconda3/envs/pureAI/lib/python3.12/site-packages/keras/src/layers/layer.py\", line 846, in __call__\n\n  File \"/home/user/anaconda3/envs/pureAI/lib/python3.12/site-packages/keras/src/utils/traceback_utils.py\", line 117, in error_handler\n\n  File \"/home/user/anaconda3/envs/pureAI/lib/python3.12/site-packages/keras/src/ops/operation.py\", line 48, in __call__\n\n  File \"/home/user/anaconda3/envs/pureAI/lib/python3.12/site-packages/keras/src/utils/traceback_utils.py\", line 156, in error_handler\n\n  File \"/home/user/anaconda3/envs/pureAI/lib/python3.12/site-packages/keras/src/models/functional.py\", line 202, in call\n\n  File \"/home/user/anaconda3/envs/pureAI/lib/python3.12/site-packages/keras/src/ops/function.py\", line 155, in _run_through_graph\n\n  File \"/home/user/anaconda3/envs/pureAI/lib/python3.12/site-packages/keras/src/models/functional.py\", line 592, in call\n\n  File \"/home/user/anaconda3/envs/pureAI/lib/python3.12/site-packages/keras/src/utils/traceback_utils.py\", line 117, in error_handler\n\n  File \"/home/user/anaconda3/envs/pureAI/lib/python3.12/site-packages/keras/src/layers/layer.py\", line 846, in __call__\n\n  File \"/home/user/anaconda3/envs/pureAI/lib/python3.12/site-packages/keras/src/utils/traceback_utils.py\", line 117, in error_handler\n\n  File \"/home/user/anaconda3/envs/pureAI/lib/python3.12/site-packages/keras/src/ops/operation.py\", line 48, in __call__\n\n  File \"/home/user/anaconda3/envs/pureAI/lib/python3.12/site-packages/keras/src/utils/traceback_utils.py\", line 156, in error_handler\n\n  File \"/home/user/anaconda3/envs/pureAI/lib/python3.12/site-packages/keras/src/layers/convolutional/base_conv.py\", line 243, in call\n\n  File \"/home/user/anaconda3/envs/pureAI/lib/python3.12/site-packages/keras/src/layers/convolutional/base_conv.py\", line 233, in convolution_op\n\n  File \"/home/user/anaconda3/envs/pureAI/lib/python3.12/site-packages/keras/src/ops/nn.py\", line 909, in conv\n\n  File \"/home/user/anaconda3/envs/pureAI/lib/python3.12/site-packages/keras/src/backend/tensorflow/nn.py\", line 255, in conv\n\n  File \"/home/user/anaconda3/envs/pureAI/lib/python3.12/site-packages/keras/src/backend/tensorflow/nn.py\", line 231, in _conv\n\nOOM when allocating tensor with shape[2,6000,5500,64] and type float on /job:localhost/replica:0/task:0/device:CPU:0 by allocator cpu\n\t [[{{node functional_15_1/conv2d_15_1/convolution}}]]\nHint: If you want to see a list of allocated tensors when OOM happens, add report_tensor_allocations_upon_oom to RunOptions for current allocation info. This isn't available when running in Eager mode.\n [Op:__inference_one_step_on_iterator_7247]",
     "output_type": "error",
     "traceback": [
      "\u001b[0;31m---------------------------------------------------------------------------\u001b[0m",
      "\u001b[0;31mResourceExhaustedError\u001b[0m                    Traceback (most recent call last)",
      "Cell \u001b[0;32mIn[45], line 1\u001b[0m\n\u001b[0;32m----> 1\u001b[0m \u001b[43mautoencoder\u001b[49m\u001b[38;5;241;43m.\u001b[39;49m\u001b[43mfit\u001b[49m\u001b[43m(\u001b[49m\u001b[43mx_train\u001b[49m\u001b[43m,\u001b[49m\u001b[43m \u001b[49m\u001b[43my_train\u001b[49m\u001b[43m,\u001b[49m\u001b[43m \u001b[49m\u001b[43mepochs\u001b[49m\u001b[38;5;241;43m=\u001b[39;49m\u001b[38;5;241;43m50\u001b[39;49m\u001b[43m,\u001b[49m\u001b[43m \u001b[49m\u001b[43mbatch_size\u001b[49m\u001b[38;5;241;43m=\u001b[39;49m\u001b[38;5;241;43m2\u001b[39;49m\u001b[43m,\u001b[49m\u001b[43m \u001b[49m\u001b[43mshuffle\u001b[49m\u001b[38;5;241;43m=\u001b[39;49m\u001b[38;5;28;43;01mTrue\u001b[39;49;00m\u001b[43m,\u001b[49m\u001b[43m \u001b[49m\u001b[43msteps_per_epoch\u001b[49m\u001b[38;5;241;43m=\u001b[39;49m\u001b[38;5;241;43m100\u001b[39;49m\u001b[43m,\u001b[49m\u001b[43m \u001b[49m\u001b[43mvalidation_data\u001b[49m\u001b[38;5;241;43m=\u001b[39;49m\u001b[43m(\u001b[49m\u001b[43mx_test\u001b[49m\u001b[43m,\u001b[49m\u001b[43m \u001b[49m\u001b[43my_test\u001b[49m\u001b[43m)\u001b[49m\u001b[43m)\u001b[49m\n",
      "File \u001b[0;32m~/anaconda3/envs/pureAI/lib/python3.12/site-packages/keras/src/utils/traceback_utils.py:122\u001b[0m, in \u001b[0;36mfilter_traceback.<locals>.error_handler\u001b[0;34m(*args, **kwargs)\u001b[0m\n\u001b[1;32m    119\u001b[0m     filtered_tb \u001b[38;5;241m=\u001b[39m _process_traceback_frames(e\u001b[38;5;241m.\u001b[39m__traceback__)\n\u001b[1;32m    120\u001b[0m     \u001b[38;5;66;03m# To get the full stack trace, call:\u001b[39;00m\n\u001b[1;32m    121\u001b[0m     \u001b[38;5;66;03m# `keras.config.disable_traceback_filtering()`\u001b[39;00m\n\u001b[0;32m--> 122\u001b[0m     \u001b[38;5;28;01mraise\u001b[39;00m e\u001b[38;5;241m.\u001b[39mwith_traceback(filtered_tb) \u001b[38;5;28;01mfrom\u001b[39;00m \u001b[38;5;28;01mNone\u001b[39;00m\n\u001b[1;32m    123\u001b[0m \u001b[38;5;28;01mfinally\u001b[39;00m:\n\u001b[1;32m    124\u001b[0m     \u001b[38;5;28;01mdel\u001b[39;00m filtered_tb\n",
      "File \u001b[0;32m~/anaconda3/envs/pureAI/lib/python3.12/site-packages/tensorflow/python/eager/execute.py:53\u001b[0m, in \u001b[0;36mquick_execute\u001b[0;34m(op_name, num_outputs, inputs, attrs, ctx, name)\u001b[0m\n\u001b[1;32m     51\u001b[0m \u001b[38;5;28;01mtry\u001b[39;00m:\n\u001b[1;32m     52\u001b[0m   ctx\u001b[38;5;241m.\u001b[39mensure_initialized()\n\u001b[0;32m---> 53\u001b[0m   tensors \u001b[38;5;241m=\u001b[39m pywrap_tfe\u001b[38;5;241m.\u001b[39mTFE_Py_Execute(ctx\u001b[38;5;241m.\u001b[39m_handle, device_name, op_name,\n\u001b[1;32m     54\u001b[0m                                       inputs, attrs, num_outputs)\n\u001b[1;32m     55\u001b[0m \u001b[38;5;28;01mexcept\u001b[39;00m core\u001b[38;5;241m.\u001b[39m_NotOkStatusException \u001b[38;5;28;01mas\u001b[39;00m e:\n\u001b[1;32m     56\u001b[0m   \u001b[38;5;28;01mif\u001b[39;00m name \u001b[38;5;129;01mis\u001b[39;00m \u001b[38;5;129;01mnot\u001b[39;00m \u001b[38;5;28;01mNone\u001b[39;00m:\n",
      "\u001b[0;31mResourceExhaustedError\u001b[0m: Graph execution error:\n\nDetected at node functional_15_1/conv2d_15_1/convolution defined at (most recent call last):\n  File \"<frozen runpy>\", line 198, in _run_module_as_main\n\n  File \"<frozen runpy>\", line 88, in _run_code\n\n  File \"/home/user/anaconda3/envs/pureAI/lib/python3.12/site-packages/ipykernel_launcher.py\", line 18, in <module>\n\n  File \"/home/user/anaconda3/envs/pureAI/lib/python3.12/site-packages/traitlets/config/application.py\", line 1075, in launch_instance\n\n  File \"/home/user/anaconda3/envs/pureAI/lib/python3.12/site-packages/ipykernel/kernelapp.py\", line 739, in start\n\n  File \"/home/user/anaconda3/envs/pureAI/lib/python3.12/site-packages/tornado/platform/asyncio.py\", line 205, in start\n\n  File \"/home/user/anaconda3/envs/pureAI/lib/python3.12/asyncio/base_events.py\", line 618, in run_forever\n\n  File \"/home/user/anaconda3/envs/pureAI/lib/python3.12/asyncio/base_events.py\", line 1951, in _run_once\n\n  File \"/home/user/anaconda3/envs/pureAI/lib/python3.12/asyncio/events.py\", line 84, in _run\n\n  File \"/home/user/anaconda3/envs/pureAI/lib/python3.12/site-packages/ipykernel/kernelbase.py\", line 545, in dispatch_queue\n\n  File \"/home/user/anaconda3/envs/pureAI/lib/python3.12/site-packages/ipykernel/kernelbase.py\", line 534, in process_one\n\n  File \"/home/user/anaconda3/envs/pureAI/lib/python3.12/site-packages/ipykernel/kernelbase.py\", line 437, in dispatch_shell\n\n  File \"/home/user/anaconda3/envs/pureAI/lib/python3.12/site-packages/ipykernel/ipkernel.py\", line 362, in execute_request\n\n  File \"/home/user/anaconda3/envs/pureAI/lib/python3.12/site-packages/ipykernel/kernelbase.py\", line 778, in execute_request\n\n  File \"/home/user/anaconda3/envs/pureAI/lib/python3.12/site-packages/ipykernel/ipkernel.py\", line 449, in do_execute\n\n  File \"/home/user/anaconda3/envs/pureAI/lib/python3.12/site-packages/ipykernel/zmqshell.py\", line 549, in run_cell\n\n  File \"/home/user/anaconda3/envs/pureAI/lib/python3.12/site-packages/IPython/core/interactiveshell.py\", line 3075, in run_cell\n\n  File \"/home/user/anaconda3/envs/pureAI/lib/python3.12/site-packages/IPython/core/interactiveshell.py\", line 3130, in _run_cell\n\n  File \"/home/user/anaconda3/envs/pureAI/lib/python3.12/site-packages/IPython/core/async_helpers.py\", line 129, in _pseudo_sync_runner\n\n  File \"/home/user/anaconda3/envs/pureAI/lib/python3.12/site-packages/IPython/core/interactiveshell.py\", line 3334, in run_cell_async\n\n  File \"/home/user/anaconda3/envs/pureAI/lib/python3.12/site-packages/IPython/core/interactiveshell.py\", line 3517, in run_ast_nodes\n\n  File \"/home/user/anaconda3/envs/pureAI/lib/python3.12/site-packages/IPython/core/interactiveshell.py\", line 3577, in run_code\n\n  File \"/tmp/ipykernel_88515/4156891292.py\", line 1, in <module>\n\n  File \"/home/user/anaconda3/envs/pureAI/lib/python3.12/site-packages/keras/src/utils/traceback_utils.py\", line 117, in error_handler\n\n  File \"/home/user/anaconda3/envs/pureAI/lib/python3.12/site-packages/keras/src/backend/tensorflow/trainer.py\", line 314, in fit\n\n  File \"/home/user/anaconda3/envs/pureAI/lib/python3.12/site-packages/keras/src/backend/tensorflow/trainer.py\", line 117, in one_step_on_iterator\n\n  File \"/home/user/anaconda3/envs/pureAI/lib/python3.12/site-packages/keras/src/backend/tensorflow/trainer.py\", line 104, in one_step_on_data\n\n  File \"/home/user/anaconda3/envs/pureAI/lib/python3.12/site-packages/keras/src/backend/tensorflow/trainer.py\", line 51, in train_step\n\n  File \"/home/user/anaconda3/envs/pureAI/lib/python3.12/site-packages/keras/src/utils/traceback_utils.py\", line 117, in error_handler\n\n  File \"/home/user/anaconda3/envs/pureAI/lib/python3.12/site-packages/keras/src/layers/layer.py\", line 846, in __call__\n\n  File \"/home/user/anaconda3/envs/pureAI/lib/python3.12/site-packages/keras/src/utils/traceback_utils.py\", line 117, in error_handler\n\n  File \"/home/user/anaconda3/envs/pureAI/lib/python3.12/site-packages/keras/src/ops/operation.py\", line 48, in __call__\n\n  File \"/home/user/anaconda3/envs/pureAI/lib/python3.12/site-packages/keras/src/utils/traceback_utils.py\", line 156, in error_handler\n\n  File \"/home/user/anaconda3/envs/pureAI/lib/python3.12/site-packages/keras/src/models/functional.py\", line 202, in call\n\n  File \"/home/user/anaconda3/envs/pureAI/lib/python3.12/site-packages/keras/src/ops/function.py\", line 155, in _run_through_graph\n\n  File \"/home/user/anaconda3/envs/pureAI/lib/python3.12/site-packages/keras/src/models/functional.py\", line 592, in call\n\n  File \"/home/user/anaconda3/envs/pureAI/lib/python3.12/site-packages/keras/src/utils/traceback_utils.py\", line 117, in error_handler\n\n  File \"/home/user/anaconda3/envs/pureAI/lib/python3.12/site-packages/keras/src/layers/layer.py\", line 846, in __call__\n\n  File \"/home/user/anaconda3/envs/pureAI/lib/python3.12/site-packages/keras/src/utils/traceback_utils.py\", line 117, in error_handler\n\n  File \"/home/user/anaconda3/envs/pureAI/lib/python3.12/site-packages/keras/src/ops/operation.py\", line 48, in __call__\n\n  File \"/home/user/anaconda3/envs/pureAI/lib/python3.12/site-packages/keras/src/utils/traceback_utils.py\", line 156, in error_handler\n\n  File \"/home/user/anaconda3/envs/pureAI/lib/python3.12/site-packages/keras/src/layers/convolutional/base_conv.py\", line 243, in call\n\n  File \"/home/user/anaconda3/envs/pureAI/lib/python3.12/site-packages/keras/src/layers/convolutional/base_conv.py\", line 233, in convolution_op\n\n  File \"/home/user/anaconda3/envs/pureAI/lib/python3.12/site-packages/keras/src/ops/nn.py\", line 909, in conv\n\n  File \"/home/user/anaconda3/envs/pureAI/lib/python3.12/site-packages/keras/src/backend/tensorflow/nn.py\", line 255, in conv\n\n  File \"/home/user/anaconda3/envs/pureAI/lib/python3.12/site-packages/keras/src/backend/tensorflow/nn.py\", line 231, in _conv\n\nOOM when allocating tensor with shape[2,6000,5500,64] and type float on /job:localhost/replica:0/task:0/device:CPU:0 by allocator cpu\n\t [[{{node functional_15_1/conv2d_15_1/convolution}}]]\nHint: If you want to see a list of allocated tensors when OOM happens, add report_tensor_allocations_upon_oom to RunOptions for current allocation info. This isn't available when running in Eager mode.\n [Op:__inference_one_step_on_iterator_7247]"
     ]
    }
   ],
   "source": [
    "autoencoder.fit(x_train, y_train, epochs=50, batch_size=16, shuffle=True, steps_per_epoch=100, validation_data=(x_test, y_test))"
   ]
  },
  {
   "cell_type": "code",
   "execution_count": null,
   "id": "d20e22a8-ca88-4f01-b866-1eb3d9f203f4",
   "metadata": {},
   "outputs": [],
   "source": []
  }
 ],
 "metadata": {
  "kernelspec": {
   "display_name": "Python 3 (ipykernel)",
   "language": "python",
   "name": "python3"
  },
  "language_info": {
   "codemirror_mode": {
    "name": "ipython",
    "version": 3
   },
   "file_extension": ".py",
   "mimetype": "text/x-python",
   "name": "python",
   "nbconvert_exporter": "python",
   "pygments_lexer": "ipython3",
   "version": "3.12.0"
  }
 },
 "nbformat": 4,
 "nbformat_minor": 5
}
