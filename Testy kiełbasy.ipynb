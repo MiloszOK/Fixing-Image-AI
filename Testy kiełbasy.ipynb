{
 "cells": [
  {
   "cell_type": "code",
   "execution_count": 1,
   "id": "fb18bdb5-b018-4615-aaa6-b2fb5407ad26",
   "metadata": {},
   "outputs": [],
   "source": [
    "from PIL import Image\n",
    "import numpy as np"
   ]
  },
  {
   "cell_type": "code",
   "execution_count": 2,
   "id": "96e27706-98cf-4048-887b-7bc1826875e3",
   "metadata": {},
   "outputs": [],
   "source": [
    "import warnings\n",
    "warnings.filterwarnings('ignore')"
   ]
  },
  {
   "cell_type": "code",
   "execution_count": 3,
   "id": "60967ac7-d975-419b-8e47-71603a60a1f4",
   "metadata": {},
   "outputs": [],
   "source": [
    "import tensorflow as tf"
   ]
  },
  {
   "cell_type": "code",
   "execution_count": 4,
   "id": "e953a851-7d09-4f11-ae6e-39901801b239",
   "metadata": {},
   "outputs": [],
   "source": [
    "def load_and_pad_image(image_path, target_size):\n",
    "    img = Image.open(image_path)\n",
    "    img_array = np.array(img)\n",
    "    pad_height = max(0, target_size[0] - img_array.shape[0])\n",
    "    pad_width = max(0, target_size[1] - img_array.shape[1])\n",
    "    pad_top = pad_height // 2\n",
    "    pad_bottom = pad_height - pad_top\n",
    "    pad_left = pad_width // 2\n",
    "    pad_right = pad_width - pad_left\n",
    "    img_array = np.pad(img_array, ((pad_top, pad_bottom), (pad_left, pad_right), (0, 0)), mode='constant', constant_values=0)\n",
    "    return img_array"
   ]
  },
  {
   "cell_type": "code",
   "execution_count": 8,
   "id": "2e0618f7-8865-41bf-a716-c2215b97c193",
   "metadata": {},
   "outputs": [],
   "source": [
    "def load_image_pairs_with_padding(blurred_folder, correct_folder, target_size):\n",
    "    blurred_images = []\n",
    "    correct_images = []\n",
    "    for filename in os.listdir(blurred_folder):\n",
    "        blurred_path = f'{blurred_folder}{filename}'\n",
    "        correct_path = f'{correct_folder}{filename}'  # zakładamy, że nazwy plików są takie same\n",
    "        if os.path.exists(correct_path):\n",
    "            blurred_img = load_and_pad_image(blurred_path, target_size)\n",
    "            correct_img = load_and_pad_image(correct_path, target_size)\n",
    "            blurred_images.append(blurred_img)\n",
    "            correct_images.append(correct_img)\n",
    "    return np.array(blurred_images), np.array(correct_images)"
   ]
  },
  {
   "cell_type": "code",
   "execution_count": 9,
   "id": "078f28c4-2e96-46cb-994c-86b4a3abda17",
   "metadata": {},
   "outputs": [],
   "source": [
    "import os"
   ]
  },
  {
   "cell_type": "code",
   "execution_count": 12,
   "id": "700dab6d-5383-4c5c-8402-65846f1972f5",
   "metadata": {},
   "outputs": [
    {
     "ename": "ValueError",
     "evalue": "setting an array element with a sequence. The requested array has an inhomogeneous shape after 3 dimensions. The detected shape was (5, 6000, 5500) + inhomogeneous part.",
     "output_type": "error",
     "traceback": [
      "\u001b[0;31m---------------------------------------------------------------------------\u001b[0m",
      "\u001b[0;31mValueError\u001b[0m                                Traceback (most recent call last)",
      "Cell \u001b[0;32mIn[12], line 8\u001b[0m\n\u001b[1;32m      5\u001b[0m target_size \u001b[38;5;241m=\u001b[39m (\u001b[38;5;241m6000\u001b[39m, \u001b[38;5;241m5500\u001b[39m)\n\u001b[1;32m      7\u001b[0m \u001b[38;5;66;03m# Załaduj pary obrazów (rozmyte i nierozmyte)\u001b[39;00m\n\u001b[0;32m----> 8\u001b[0m blurred_images, correct_images \u001b[38;5;241m=\u001b[39m load_image_pairs_with_padding(blurred_images_folder, correct_images_folder, target_size)\n",
      "Cell \u001b[0;32mIn[8], line 12\u001b[0m, in \u001b[0;36mload_image_pairs_with_padding\u001b[0;34m(blurred_folder, correct_folder, target_size)\u001b[0m\n\u001b[1;32m     10\u001b[0m         blurred_images\u001b[38;5;241m.\u001b[39mappend(blurred_img)\n\u001b[1;32m     11\u001b[0m         correct_images\u001b[38;5;241m.\u001b[39mappend(correct_img)\n\u001b[0;32m---> 12\u001b[0m \u001b[38;5;28;01mreturn\u001b[39;00m np\u001b[38;5;241m.\u001b[39marray(blurred_images), np\u001b[38;5;241m.\u001b[39marray(correct_images)\n",
      "\u001b[0;31mValueError\u001b[0m: setting an array element with a sequence. The requested array has an inhomogeneous shape after 3 dimensions. The detected shape was (5, 6000, 5500) + inhomogeneous part."
     ]
    }
   ],
   "source": [
    "# Ścieżki do folderów\n",
    "correct_images_folder = 'Pictures/'\n",
    "blurred_images_folder = 'Zgaussowane/'\n",
    "\n",
    "target_size = (6000, 5500)\n",
    "\n",
    "# Załaduj pary obrazów (rozmyte i nierozmyte)\n",
    "blurred_images, correct_images = load_image_pairs_with_padding(blurred_images_folder, correct_images_folder, target_size)\n"
   ]
  },
  {
   "cell_type": "code",
   "execution_count": null,
   "id": "e9e9e240-ccea-4fce-8a5c-70a38fc78e19",
   "metadata": {},
   "outputs": [],
   "source": []
  }
 ],
 "metadata": {
  "kernelspec": {
   "display_name": "Python 3 (ipykernel)",
   "language": "python",
   "name": "python3"
  },
  "language_info": {
   "codemirror_mode": {
    "name": "ipython",
    "version": 3
   },
   "file_extension": ".py",
   "mimetype": "text/x-python",
   "name": "python",
   "nbconvert_exporter": "python",
   "pygments_lexer": "ipython3",
   "version": "3.11.7"
  }
 },
 "nbformat": 4,
 "nbformat_minor": 5
}
